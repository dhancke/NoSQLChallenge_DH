{
 "cells": [
  {
   "cell_type": "markdown",
   "id": "9a57c4c6",
   "metadata": {},
   "source": [
    "# Eat Safe, Love"
   ]
  },
  {
   "cell_type": "markdown",
   "id": "064ef857",
   "metadata": {},
   "source": [
    "## Notebook Set Up"
   ]
  },
  {
   "cell_type": "code",
   "execution_count": 1,
   "id": "3ecdd008",
   "metadata": {},
   "outputs": [],
   "source": [
    "# Import dependencies\n",
    "from pymongo import MongoClient\n",
    "import pandas as pd\n",
    "from pprint import pprint"
   ]
  },
  {
   "cell_type": "code",
   "execution_count": 4,
   "id": "59390c4a",
   "metadata": {},
   "outputs": [],
   "source": [
    "# Create an instance of MongoClient\n",
    "mongo = MongoClient(port=27017)"
   ]
  },
  {
   "cell_type": "code",
   "execution_count": 5,
   "id": "71e373c1",
   "metadata": {},
   "outputs": [],
   "source": [
    "# assign the uk_food database to a variable name\n",
    "db = mongo['uk_food']"
   ]
  },
  {
   "cell_type": "code",
   "execution_count": null,
   "id": "18ab463c",
   "metadata": {},
   "outputs": [],
   "source": [
    "# review the collections in our database\n",
    "print(db.list_collection_names())"
   ]
  },
  {
   "cell_type": "code",
   "execution_count": null,
   "id": "11c9f11b",
   "metadata": {},
   "outputs": [],
   "source": [
    "# assign the collection to a variable\n",
    "establishments = db.establishments\n",
    "establishments.find_one()"
   ]
  },
  {
   "cell_type": "markdown",
   "id": "d5671434",
   "metadata": {},
   "source": [
    "## Part 3: Exploratory Analysis\n",
    "Unless otherwise stated, for each question: \n",
    "* Use `count_documents` to display the number of documents contained in the result.\n",
    "* Display the first document in the results using `pprint`.\n",
    "* Convert the result to a Pandas DataFrame, print the number of rows in the DataFrame, and display the first 10 rows."
   ]
  },
  {
   "cell_type": "markdown",
   "id": "314bd884",
   "metadata": {},
   "source": [
    "### 1. Which establishments have a hygiene score equal to 20?"
   ]
  },
  {
   "cell_type": "code",
   "execution_count": null,
   "id": "c2da7648",
   "metadata": {},
   "outputs": [],
   "source": [
    "# Find the establishments with a hygiene score of 20\n",
    "query = {'scores.hygiene': 20}\n",
    "\n",
    "# Use count_documents to display the number of documents in the result\n",
    "print(f\"There are {establishments.count_documents(query)} establishments with a hygiene score of 20\",\"\\n\",\"-\"*40)\n",
    "# Display the first document in the results using pprint\n",
    "pprint(establishments.find_one(query))"
   ]
  },
  {
   "cell_type": "code",
   "execution_count": null,
   "id": "a6e5cece",
   "metadata": {},
   "outputs": [],
   "source": [
    "# Convert the result to a Pandas DataFrame\n",
    "query = {'scores.Hygiene': 20}\n",
    "results = establishments.find(query)\n",
    "results_df = pd.DataFrame(results)\n",
    "\n",
    "# Display the number of rows in the DataFrame\n",
    "print.len(results_df)\n",
    "# Display the first 10 rows of the DataFrame\n",
    "results_df.head(10)"
   ]
  },
  {
   "cell_type": "markdown",
   "id": "0ef4395a",
   "metadata": {},
   "source": [
    "### 2. Which establishments in London have a `RatingValue` greater than or equal to 4?"
   ]
  },
  {
   "cell_type": "code",
   "execution_count": null,
   "id": "93c63829",
   "metadata": {},
   "outputs": [],
   "source": [
    "# Find the establishments with London as the Local Authority and has a RatingValue greater than or equal to 4.\n",
    "query = {'$and': [{'localAuthorityName': 'London'}, {'ratingValue': {'$gte': 4}}]\n",
    "results_london = establishments.find(query)\n",
    "# Use count_documents to display the number of documents in the result\n",
    "print(establishments.count_documents(query))\n",
    "# Display the first document in the results using pprint\n",
    "pprint(results_london[0])"
   ]
  },
  {
   "cell_type": "code",
   "execution_count": null,
   "id": "07e24ccb",
   "metadata": {},
   "outputs": [],
   "source": [
    "# Convert the result to a Pandas DataFrame\n",
    "query = {'LocalAuthorityName':{'$regex':'London'},'RatingValue':{'$gte':4}}\n",
    "results_london = establishments.find(query)\n",
    "results_london_df = pd.DataFrame(results_london)\n",
    "\n",
    "# Display the number of rows in the DataFrame\n",
    "print(len(results_london_df))\n",
    "# Display the first 10 rows of the DataFrame\n",
    "results_london_df.head(10)"
   ]
  },
  {
   "cell_type": "markdown",
   "id": "4e570caf",
   "metadata": {},
   "source": [
    "### 3. What are the top 5 establishments with a `RatingValue` rating value of '5', sorted by lowest hygiene score, nearest to the new restaurant added, \"Penang Flavours\"?"
   ]
  },
  {
   "cell_type": "code",
   "execution_count": null,
   "id": "7f599f3d",
   "metadata": {},
   "outputs": [],
   "source": [
    "# Search within 0.01 degree on either side of the latitude and longitude.\n",
    "# Rating value must equal 5\n",
    "# Sort by hygiene score\n",
    "\n",
    "query = {BusinessName: \"Penang Flavours\"}\n",
    "fields = {'lattitude':1, 'longitude':1, '_id':0}\n",
    "\n",
    "degree_search = 0.01\n",
    "latitude = spatial_list[1]\n",
    "longitude = spatial_list[0]\n",
    "\n",
    "query = {\n",
    "    'longitude': {'$gte': longitude - degree_search, '$lte': longitude + degree_search},\n",
    "    'latitude': {'$gte': latitude - degree_search, '$lte': latitude + degree_search},\n",
    "    'ratingValue': 5\n",
    "} \n",
    "sort = [('scores.hygiene', 1)]\n",
    "\n",
    "# Print the results\n",
    "output = establishments.find(query, fields).sort(sort).limits(5)\n",
    "for i in output:\n",
    "    print(i)"
   ]
  },
  {
   "cell_type": "code",
   "execution_count": null,
   "id": "a6ad16f7",
   "metadata": {},
   "outputs": [],
   "source": [
    "# Convert result to Pandas DataFrame\n",
    "query = {\n",
    "    'longitude': {'$gte': longitude - degree_search, '$lte': longitude + degree_search},\n",
    "    'latitude': {'$gte': latitude - degree_search, '$lte': latitude + degree_search},\n",
    "    'ratingValue': 5\n",
    "} \n",
    "sort = [('scores.hygiene', 1)]\n",
    "\n",
    "output = establishments.find(query, fields).sort(sort).limits(5)\n",
    "restaurants_distance_df = pd.DataFrame(output)\n",
    "restaurants_distance_df.head()"
   ]
  },
  {
   "cell_type": "markdown",
   "id": "67281254",
   "metadata": {},
   "source": [
    "### 4. How many establishments in each Local Authority area have a hygiene score of 0?"
   ]
  },
  {
   "cell_type": "code",
   "execution_count": null,
   "id": "4eeb227e",
   "metadata": {},
   "outputs": [],
   "source": [
    "# Create a pipeline that: \n",
    "# 1. Matches establishments with a hygiene score of 0\n",
    "match_establishments = {'scores.hygiene': 0}\n",
    "# 2. Groups the matches by Local Authority\n",
    "group_establishments = {'$group': {'_id': '$localAuthorityName', 'count': {'$sum': 1}}}\n",
    "# 3. Sorts the matches from highest to lowest\n",
    "sort_establishments = {'$sort': {'count': -1}}\n",
    "pipeline = [match_establishments, group_establishments, sort_establishments]\n",
    "results = establishments.aggregate(pipeline)\n",
    "# Print the number of documents in the result\n",
    "print.len(results)\n",
    "# Print the first 10 results\n",
    "pprint(results[0:10])"
   ]
  },
  {
   "cell_type": "code",
   "execution_count": null,
   "id": "d8aab364",
   "metadata": {},
   "outputs": [],
   "source": [
    "# Convert the result to a Pandas DataFrame\n",
    "poor_hygiene_establishments_df = pd.DataFrame(results)\n",
    "# Display the number of rows in the DataFrame\n",
    "print.len(poor_hygiene_establishments_df)\n",
    "# Display the first 10 rows of the DataFrame\n",
    "poor_hygiene_establishments_df.head(10)"
   ]
  }
 ],
 "metadata": {
  "kernelspec": {
   "display_name": "Python 3 (ipykernel)",
   "language": "python",
   "name": "python3"
  },
  "language_info": {
   "codemirror_mode": {
    "name": "ipython",
    "version": 3
   },
   "file_extension": ".py",
   "mimetype": "text/x-python",
   "name": "python",
   "nbconvert_exporter": "python",
   "pygments_lexer": "ipython3",
   "version": "3.9.12"
  }
 },
 "nbformat": 4,
 "nbformat_minor": 5
}
